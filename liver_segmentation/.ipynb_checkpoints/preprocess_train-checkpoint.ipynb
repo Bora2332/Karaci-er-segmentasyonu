{
 "cells": [
  {
   "cell_type": "markdown",
   "id": "f606ecc9-2b93-4f8c-a5a0-81c99472b1f5",
   "metadata": {},
   "source": [
    "Install\n",
    "cuda\n",
    "cudnn\n",
    "monai\n",
    "pytorch"
   ]
  },
  {
   "cell_type": "code",
   "execution_count": null,
   "id": "da422fdb-90de-4983-8074-129d718fb14c",
   "metadata": {},
   "outputs": [],
   "source": [
    "!pip install monai"
   ]
  },
  {
   "cell_type": "code",
   "execution_count": null,
   "id": "95aaaff6-fb9c-4fc1-9c94-f5156f19f883",
   "metadata": {},
   "outputs": [],
   "source": [
    "!pip install torch==2.2.0 torchvision==0.17.0 torchaudio==2.2.0 --index-url https://download.pytorch.org/whl/cu121"
   ]
  },
  {
   "cell_type": "code",
   "execution_count": null,
   "id": "6a39e4e2-ec63-4ec5-a03d-f431bb97025c",
   "metadata": {},
   "outputs": [],
   "source": []
  }
 ],
 "metadata": {
  "kernelspec": {
   "display_name": "Python 3 (ipykernel)",
   "language": "python",
   "name": "python3"
  },
  "language_info": {
   "codemirror_mode": {
    "name": "ipython",
    "version": 3
   },
   "file_extension": ".py",
   "mimetype": "text/x-python",
   "name": "python",
   "nbconvert_exporter": "python",
   "pygments_lexer": "ipython3",
   "version": "3.8.20"
  }
 },
 "nbformat": 4,
 "nbformat_minor": 5
}
