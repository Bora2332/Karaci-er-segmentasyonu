{
 "cells": [
  {
   "cell_type": "markdown",
   "id": "5b3612b8-d0a9-4090-9737-f2004f3f413c",
   "metadata": {},
   "source": [
    "Create groups of 64 slices\n"
   ]
  },
  {
   "cell_type": "code",
   "execution_count": 1,
   "id": "cc784944-33a5-4cdd-a41d-c9fe3aaf87d4",
   "metadata": {},
   "outputs": [],
   "source": [
    "in_path = 'D:/Task03_Liver/dicom_file/labels'\n",
    "out_path= 'D:/Task03_Liver/dicom_groups/labels'"
   ]
  },
  {
   "cell_type": "code",
   "execution_count": 3,
   "id": "5dcc85c9-7710-4ff7-b223-96f43def9dc3",
   "metadata": {
    "scrolled": true
   },
   "outputs": [
    {
     "name": "stdout",
     "output_type": "stream",
     "text": [
      "Requirement already satisfied: glob2 in c:\\users\\bora\\anaconda3\\envs\\liver_segmentation\\lib\\site-packages (0.7)\n"
     ]
    }
   ],
   "source": [
    "!pip install glob2"
   ]
  },
  {
   "cell_type": "code",
   "execution_count": 5,
   "id": "b79fada7-371a-480b-bf6c-fa3fc0229578",
   "metadata": {
    "scrolled": true
   },
   "outputs": [
    {
     "name": "stdout",
     "output_type": "stream",
     "text": [
      "Collecting pytest-shutil\n",
      "  Downloading pytest_shutil-1.8.1-py3-none-any.whl.metadata (13 kB)\n",
      "Requirement already satisfied: six in c:\\users\\bora\\anaconda3\\envs\\liver_segmentation\\lib\\site-packages (from pytest-shutil) (1.16.0)\n",
      "Collecting execnet (from pytest-shutil)\n",
      "  Downloading execnet-2.1.1-py3-none-any.whl.metadata (2.9 kB)\n",
      "Collecting pytest (from pytest-shutil)\n",
      "  Downloading pytest-8.3.5-py3-none-any.whl.metadata (7.6 kB)\n",
      "Collecting termcolor (from pytest-shutil)\n",
      "  Downloading termcolor-2.4.0-py3-none-any.whl.metadata (6.1 kB)\n",
      "Requirement already satisfied: colorama in c:\\users\\bora\\anaconda3\\envs\\liver_segmentation\\lib\\site-packages (from pytest->pytest-shutil) (0.4.6)\n",
      "Requirement already satisfied: exceptiongroup>=1.0.0rc8 in c:\\users\\bora\\anaconda3\\envs\\liver_segmentation\\lib\\site-packages (from pytest->pytest-shutil) (1.2.0)\n",
      "Collecting iniconfig (from pytest->pytest-shutil)\n",
      "  Downloading iniconfig-2.1.0-py3-none-any.whl.metadata (2.7 kB)\n",
      "Requirement already satisfied: packaging in c:\\users\\bora\\anaconda3\\envs\\liver_segmentation\\lib\\site-packages (from pytest->pytest-shutil) (24.1)\n",
      "Collecting pluggy<2,>=1.5 (from pytest->pytest-shutil)\n",
      "  Downloading pluggy-1.5.0-py3-none-any.whl.metadata (4.8 kB)\n",
      "Requirement already satisfied: tomli>=1 in c:\\users\\bora\\anaconda3\\envs\\liver_segmentation\\lib\\site-packages (from pytest->pytest-shutil) (2.0.1)\n",
      "Downloading pytest_shutil-1.8.1-py3-none-any.whl (15 kB)\n",
      "Downloading execnet-2.1.1-py3-none-any.whl (40 kB)\n",
      "Downloading pytest-8.3.5-py3-none-any.whl (343 kB)\n",
      "Downloading termcolor-2.4.0-py3-none-any.whl (7.7 kB)\n",
      "Downloading pluggy-1.5.0-py3-none-any.whl (20 kB)\n",
      "Downloading iniconfig-2.1.0-py3-none-any.whl (6.0 kB)\n",
      "Installing collected packages: termcolor, pluggy, iniconfig, execnet, pytest, pytest-shutil\n",
      "Successfully installed execnet-2.1.1 iniconfig-2.1.0 pluggy-1.5.0 pytest-8.3.5 pytest-shutil-1.8.1 termcolor-2.4.0\n"
     ]
    }
   ],
   "source": [
    "!pip install pytest-shutil\n"
   ]
  },
  {
   "cell_type": "code",
   "execution_count": null,
   "id": "172b70e7-bc14-4975-b2d1-f8f341825d7b",
   "metadata": {},
   "outputs": [],
   "source": [
    "!pip install \"pydicom==2.3.1\" \"dicom2nifti==2.4.6\""
   ]
  },
  {
   "cell_type": "code",
   "execution_count": 14,
   "id": "0f39e01b-eda8-4c6e-a940-74f334d3674c",
   "metadata": {},
   "outputs": [],
   "source": [
    "from glob import glob\n",
    "import shutil\n",
    "import os\n",
    "import dicom2nifti\n",
    "import nibabel as nib\n",
    "import numpy as np"
   ]
  },
  {
   "cell_type": "code",
   "execution_count": 3,
   "id": "e2fc9797-85dd-4801-8540-a234cfdcea54",
   "metadata": {},
   "outputs": [],
   "source": [
    "for patient in glob(in_path + '/*'):\n",
    "    patient_name = os.path.basename(os.path.normpath(patient))\n",
    "    number_folders = int(len(glob(patient + '/*'))/64)\n",
    "\n",
    "    for i in range (number_folders):\n",
    "        output_path_name = os.path.join(out_path, patient_name + '_' + str(i))\n",
    "        os.mkdir(output_path_name)\n",
    "        for i, file in enumerate(glob(patient + '/*')):\n",
    "            if i == 64 + 1 :\n",
    "                break\n",
    "            shutil.move(file, output_path_name)\n",
    "\n"
   ]
  },
  {
   "cell_type": "code",
   "execution_count": 3,
   "id": "79358677-e017-40c0-8d2c-4221f1603efc",
   "metadata": {},
   "outputs": [],
   "source": [
    "in_path = 'D:/Task03_Liver/dicom_file/images'\n",
    "out_path= 'D:/Task03_Liver/dicom_groups/images'"
   ]
  },
  {
   "cell_type": "code",
   "execution_count": 4,
   "id": "08ced890-62c3-4ffd-af76-8999ab617954",
   "metadata": {},
   "outputs": [],
   "source": [
    "for patient in glob(in_path + '/*'):\n",
    "    patient_name = os.path.basename(os.path.normpath(patient))\n",
    "    number_folders = int(len(glob(patient + '/*'))/64)\n",
    "\n",
    "    for i in range (number_folders):\n",
    "        output_path_name = os.path.join(out_path, patient_name + '_' + str(i))\n",
    "        os.mkdir(output_path_name)\n",
    "        for i, file in enumerate(glob(patient + '/*')):\n",
    "            if i == 64 + 1 :\n",
    "                break\n",
    "            shutil.move(file, output_path_name)\n",
    "\n"
   ]
  },
  {
   "cell_type": "markdown",
   "id": "15e19e6e-b569-44af-8444-3ec653c721da",
   "metadata": {},
   "source": [
    "Convert the dicom files into nifties"
   ]
  },
  {
   "cell_type": "code",
   "execution_count": 9,
   "id": "a66f8c13-e5df-43c3-bf87-6a1e16a89dcc",
   "metadata": {},
   "outputs": [
    {
     "name": "stdout",
     "output_type": "stream",
     "text": [
      "Collecting pydicom==2.3.1\n",
      "  Downloading pydicom-2.3.1-py3-none-any.whl.metadata (7.2 kB)\n",
      "Collecting dicom2nifti==2.4.6\n",
      "  Downloading dicom2nifti-2.4.6-py3-none-any.whl.metadata (1.3 kB)\n",
      "Requirement already satisfied: nibabel in c:\\users\\bora\\anaconda3\\envs\\liver_segmentation\\lib\\site-packages (from dicom2nifti==2.4.6) (5.2.1)\n",
      "Requirement already satisfied: numpy in c:\\users\\bora\\anaconda3\\envs\\liver_segmentation\\lib\\site-packages (from dicom2nifti==2.4.6) (1.24.4)\n",
      "Requirement already satisfied: scipy in c:\\users\\bora\\anaconda3\\envs\\liver_segmentation\\lib\\site-packages (from dicom2nifti==2.4.6) (1.10.1)\n",
      "Requirement already satisfied: python-gdcm in c:\\users\\bora\\anaconda3\\envs\\liver_segmentation\\lib\\site-packages (from dicom2nifti==2.4.6) (3.0.25)\n",
      "Requirement already satisfied: importlib-resources>=1.3 in c:\\users\\bora\\anaconda3\\envs\\liver_segmentation\\lib\\site-packages (from nibabel->dicom2nifti==2.4.6) (6.4.0)\n",
      "Requirement already satisfied: packaging>=17 in c:\\users\\bora\\anaconda3\\envs\\liver_segmentation\\lib\\site-packages (from nibabel->dicom2nifti==2.4.6) (24.1)\n",
      "Requirement already satisfied: zipp>=3.1.0 in c:\\users\\bora\\anaconda3\\envs\\liver_segmentation\\lib\\site-packages (from importlib-resources>=1.3->nibabel->dicom2nifti==2.4.6) (3.20.2)\n",
      "Downloading pydicom-2.3.1-py3-none-any.whl (2.0 MB)\n",
      "   ---------------------------------------- 0.0/2.0 MB ? eta -:--:--\n",
      "   ---------------- ----------------------- 0.8/2.0 MB 8.3 MB/s eta 0:00:01\n",
      "   ---------------------------------------- 2.0/2.0 MB 13.6 MB/s eta 0:00:00\n",
      "Downloading dicom2nifti-2.4.6-py3-none-any.whl (43 kB)\n",
      "Installing collected packages: pydicom, dicom2nifti\n",
      "  Attempting uninstall: pydicom\n",
      "    Found existing installation: pydicom 2.4.4\n",
      "    Uninstalling pydicom-2.4.4:\n",
      "      Successfully uninstalled pydicom-2.4.4\n",
      "  Attempting uninstall: dicom2nifti\n",
      "    Found existing installation: dicom2nifti 2.6.0\n",
      "    Uninstalling dicom2nifti-2.6.0:\n",
      "      Successfully uninstalled dicom2nifti-2.6.0\n",
      "Successfully installed dicom2nifti-2.4.6 pydicom-2.3.1\n"
     ]
    }
   ],
   "source": [
    "!pip install \"pydicom==2.3.1\" \"dicom2nifti==2.4.6\""
   ]
  },
  {
   "cell_type": "code",
   "execution_count": 2,
   "id": "ee24a577-4eed-4ecc-8a76-f42f2dccde92",
   "metadata": {},
   "outputs": [],
   "source": [
    "in_path_images = 'D:/Task03_Liver/dicom_groups/images/*'\n",
    "in_path_labels = 'D:/Task03_Liver/dicom_groups/labels/*'\n",
    "out_path_images = 'D:/Task03_Liver/nifti_files/images'\n",
    "out_path_labels = 'D:/Task03_Liver/nifti_files/labels'\n",
    "\n",
    "list_images = glob(in_path_images)\n",
    "list_labels = glob(in_path_labels)\n"
   ]
  },
  {
   "cell_type": "code",
   "execution_count": 3,
   "id": "ad7783c6-fffc-4204-aadb-ee010f75c8b2",
   "metadata": {},
   "outputs": [
    {
     "data": {
      "text/plain": [
       "['D:/Task03_Liver/dicom_groups/images\\\\liver_0_0',\n",
       " 'D:/Task03_Liver/dicom_groups/images\\\\liver_1_0']"
      ]
     },
     "execution_count": 3,
     "metadata": {},
     "output_type": "execute_result"
    }
   ],
   "source": [
    "list_images\n"
   ]
  },
  {
   "cell_type": "code",
   "execution_count": 4,
   "id": "da4160c7-d617-4019-827e-76d18cf5f1d6",
   "metadata": {},
   "outputs": [
    {
     "data": {
      "text/plain": [
       "['D:/Task03_Liver/dicom_groups/labels\\\\liver_0_0',\n",
       " 'D:/Task03_Liver/dicom_groups/labels\\\\liver_1_0']"
      ]
     },
     "execution_count": 4,
     "metadata": {},
     "output_type": "execute_result"
    }
   ],
   "source": [
    "list_labels"
   ]
  },
  {
   "cell_type": "code",
   "execution_count": 5,
   "id": "fd279646-e442-4614-a70e-aad38d1fedc7",
   "metadata": {
    "scrolled": true
   },
   "outputs": [],
   "source": [
    "for patient in list_images:\n",
    "    patient_name = os.path.basename(os.path.normpath(patient))#hasta isimlerini var isim tutar\n",
    "    dicom2nifti.dicom_series_to_nifti(patient, os.path.join(out_path_images, patient_name + '.nii.gz' )) #dicomu nifti ye çevirir"
   ]
  },
  {
   "cell_type": "code",
   "execution_count": 7,
   "id": "bc41d2ef-3311-4733-9079-f9e822581dcc",
   "metadata": {},
   "outputs": [],
   "source": [
    "for patient in list_labels:\n",
    "    patient_name = os.path.basename(os.path.normpath(patient))#hasta isimlerini var isim tutar\n",
    "    dicom2nifti.dicom_series_to_nifti(patient, os.path.join(out_path_labels, patient_name + '.nii.gz' )) #dicomu nifti ye çevirir"
   ]
  },
  {
   "cell_type": "markdown",
   "id": "df610683-9452-48b1-9746-1cb877ecd965",
   "metadata": {},
   "source": [
    "Find Empty"
   ]
  },
  {
   "cell_type": "code",
   "execution_count": 8,
   "id": "fab156bf-a449-4ef7-ad01-3822c4b983a5",
   "metadata": {},
   "outputs": [
    {
     "name": "stdout",
     "output_type": "stream",
     "text": [
      "Requirement already satisfied: nibabel in c:\\users\\bora\\anaconda3\\envs\\liver_segmentation\\lib\\site-packages (5.2.1)\n",
      "Requirement already satisfied: importlib-resources>=1.3 in c:\\users\\bora\\anaconda3\\envs\\liver_segmentation\\lib\\site-packages (from nibabel) (6.4.0)\n",
      "Requirement already satisfied: numpy>=1.20 in c:\\users\\bora\\anaconda3\\envs\\liver_segmentation\\lib\\site-packages (from nibabel) (1.24.4)\n",
      "Requirement already satisfied: packaging>=17 in c:\\users\\bora\\anaconda3\\envs\\liver_segmentation\\lib\\site-packages (from nibabel) (24.1)\n",
      "Requirement already satisfied: zipp>=3.1.0 in c:\\users\\bora\\anaconda3\\envs\\liver_segmentation\\lib\\site-packages (from importlib-resources>=1.3->nibabel) (3.20.2)\n"
     ]
    }
   ],
   "source": [
    "!pip install nibabel\n"
   ]
  },
  {
   "cell_type": "code",
   "execution_count": 11,
   "id": "27ddb4a9-b6fb-43b7-8c90-8f7b79e9079c",
   "metadata": {},
   "outputs": [
    {
     "name": "stdout",
     "output_type": "stream",
     "text": [
      "Requirement already satisfied: numpy in c:\\users\\bora\\anaconda3\\envs\\liver_segmentation\\lib\\site-packages (1.24.4)\n"
     ]
    }
   ],
   "source": [
    "!pip install numpy"
   ]
  },
  {
   "cell_type": "code",
   "execution_count": 16,
   "id": "54eadb21-f1c7-41cb-82e7-71daca07b920",
   "metadata": {},
   "outputs": [],
   "source": [
    "input_nifti_file_path ='D:/Task03_Liver/nifti_files/labels/*'\n",
    "list_labels = glob(input_nifti_file_path)\n",
    "\n",
    "for patient in list_labels:\n",
    "    nifti_file = nib.load(patient)                                   # 0 dönmediği için sadece demek ki bu dosya dolu\n",
    "    fdata = nifti_file.get_fdata()\n",
    "    np_unique = np.unique(fdata)\n",
    "    if len(np_unique) == 1:\n",
    "        print(patient)"
   ]
  },
  {
   "cell_type": "code",
   "execution_count": null,
   "id": "6ac7db16-ff86-47da-ac1b-04e35951600c",
   "metadata": {},
   "outputs": [],
   "source": []
  }
 ],
 "metadata": {
  "kernelspec": {
   "display_name": "Python 3 (ipykernel)",
   "language": "python",
   "name": "python3"
  },
  "language_info": {
   "codemirror_mode": {
    "name": "ipython",
    "version": 3
   },
   "file_extension": ".py",
   "mimetype": "text/x-python",
   "name": "python",
   "nbconvert_exporter": "python",
   "pygments_lexer": "ipython3",
   "version": "3.8.20"
  }
 },
 "nbformat": 4,
 "nbformat_minor": 5
}
